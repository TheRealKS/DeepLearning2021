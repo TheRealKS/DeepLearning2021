{
 "metadata": {
  "language_info": {
   "codemirror_mode": {
    "name": "ipython",
    "version": 3
   },
   "file_extension": ".py",
   "mimetype": "text/x-python",
   "name": "python",
   "nbconvert_exporter": "python",
   "pygments_lexer": "ipython3",
   "version": 3
  },
  "orig_nbformat": 2
 },
 "nbformat": 4,
 "nbformat_minor": 2,
 "cells": [
  {
   "source": [
    "# Deep Learning: Practical Assignment Report\n",
    "## Koen Sauren || s1024202 <br> 04-06-2021\n",
    "\n",
    "All code was run on Python 3.8.5 64-bit, with mxnet version 1.6 and CUDA version 10.2."
   ],
   "cell_type": "markdown",
   "metadata": {}
  }
 ]
}